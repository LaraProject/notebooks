{
  "nbformat": 4,
  "nbformat_minor": 0,
  "metadata": {
    "colab": {
      "name": "LaraProject_Word2Vec.ipynb",
      "provenance": [],
      "collapsed_sections": []
    },
    "kernelspec": {
      "name": "python3",
      "display_name": "Python 3"
    }
  },
  "cells": [
    {
      "cell_type": "markdown",
      "metadata": {
        "id": "uSWmXJpwL2v0",
        "colab_type": "text"
      },
      "source": [
        "**Entraînement du Word2Vec avec Google Colaboratory**\n",
        "Avant tout, assurez vous d'avoir plusieurs choses :\n",
        "\n",
        "*   Google Colaboratory doit être synchonisé avec Google Drive"
      ]
    },
    {
      "cell_type": "code",
      "metadata": {
        "id": "LX9rIeJBw6Hh",
        "colab_type": "code",
        "colab": {}
      },
      "source": [
        "# Télécharge data_lelu_cleaned.txt\n",
        "%%bash\n",
        "if [ ! -f \"/content/drive/My Drive/data_lelu_cleaned.txt\" ]; then\n",
        "  # Installation de LRZIP\n",
        "  apt-get install lrzip\n",
        "  # Téléchargement de l'archive\n",
        "  wget https://github.com/LaraProject/notebooks/raw/master/data_lelu_cleaned.txt.lrz\n",
        "  # Décompression\n",
        "  lrunzip data_lelu_cleaned.txt.lrz\n",
        "fi"
      ],
      "execution_count": 0,
      "outputs": []
    },
    {
      "cell_type": "code",
      "metadata": {
        "id": "hIJfH5hLLsAU",
        "colab_type": "code",
        "colab": {}
      },
      "source": [
        "# Assemblage des deux datasets\n",
        "%%bash\n",
        "if [ -f \"/content/drive/My Drive/data_lelu_cleaned.txt\" ]; then\n",
        "  cat \"/content/drive/My Drive/data_lelu_cleaned.txt\" \"/content/drive/My Drive/data_facebook_cleaned.txt\" > data.txt\n",
        "fi\n",
        "if [ -f \"/content/data_lelu_cleaned.txt\" ]; then\n",
        "  cat \"/content/data_lelu_cleaned.txt\" \"/content/drive/My Drive/data_facebook_cleaned.txt\" > data.txt\n",
        "fi"
      ],
      "execution_count": 0,
      "outputs": []
    },
    {
      "cell_type": "code",
      "metadata": {
        "id": "FmbAi9bKMQRj",
        "colab_type": "code",
        "colab": {}
      },
      "source": [
        "from gensim.models import FastText\n",
        "\n",
        "class MyIter(object):\n",
        "  def __iter__(self):\n",
        "    with open(\"data.txt\", 'r') as f:\n",
        "      count = 0\n",
        "      for line in f.readlines() + [\"<unk> \"*100 + \"\\n\"]:\n",
        "        if (count % 2) == 0:\n",
        "          sentence = line[11:-1].split()\n",
        "        else:\n",
        "          sentence = [\"<start>\"] + line[9:-1].split() + [\"<end>\"]\n",
        "        yield sentence\n",
        "        count += 1"
      ],
      "execution_count": 0,
      "outputs": []
    },
    {
      "cell_type": "code",
      "metadata": {
        "id": "JXgdbSlcMT1l",
        "colab_type": "code",
        "colab": {}
      },
      "source": [
        "# Construction du modèle\n",
        "model = FastText(size=100, window=5, min_count=20, workers=2)\n",
        "model.build_vocab(sentences=MyIter())\n",
        "total_examples = model.corpus_count"
      ],
      "execution_count": 0,
      "outputs": []
    },
    {
      "cell_type": "code",
      "metadata": {
        "id": "Um0-_NXmMWvz",
        "colab_type": "code",
        "colab": {}
      },
      "source": [
        "# Entraînement\n",
        "model.train(sentences=MyIter(), total_examples=total_examples, epochs=5)"
      ],
      "execution_count": 0,
      "outputs": []
    },
    {
      "cell_type": "code",
      "metadata": {
        "id": "q9JW_jtHMbqj",
        "colab_type": "code",
        "colab": {}
      },
      "source": [
        "# Sauvegarde\n",
        "model.wv.save_word2vec_format(\"/content/drive/My Drive/word2vec_vectors.txt\")\n",
        "model.save(\"/content/drive/My Drive/word2vec_model.bin\")"
      ],
      "execution_count": 0,
      "outputs": []
    },
    {
      "cell_type": "markdown",
      "metadata": {
        "id": "u8eCjz9-cZQ2",
        "colab_type": "text"
      },
      "source": [
        "**Conservez précieusement les nouveaux fichiers apparus sur votre Drive**"
      ]
    }
  ]
}