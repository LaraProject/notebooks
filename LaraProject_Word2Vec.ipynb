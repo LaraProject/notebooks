{
  "nbformat": 4,
  "nbformat_minor": 0,
  "metadata": {
    "colab": {
      "name": "LaraProject_Word2Vec.ipynb",
      "provenance": [],
      "collapsed_sections": []
    },
    "kernelspec": {
      "name": "python3",
      "display_name": "Python 3"
    }
  },
  "cells": [
    {
      "cell_type": "markdown",
      "metadata": {
        "id": "uSWmXJpwL2v0",
        "colab_type": "text"
      },
      "source": [
        "**Entraînement du Word2Vec avec Google Colaboratory**\n",
        "Avant tout, assurez vous d'avoir plusieurs choses :\n",
        "\n",
        "*   Google Colaboratory doit être synchonisé avec Google Drive"
      ]
    },
    {
      "cell_type": "code",
      "metadata": {
        "id": "LX9rIeJBw6Hh",
        "colab_type": "code",
        "colab": {}
      },
      "source": [
        "# Télécharge data_lelu_cleaned.txt\n",
        "%%bash\n",
        "if [ ! -f \"/content/drive/My Drive/data_lelu_cleaned.txt\" ]; then\n",
        "  # Installation de LRZIP\n",
        "  apt-get install lrzip\n",
        "  # Téléchargement de l'archive\n",
        "  wget https://github.com/LaraProject/notebooks/raw/master/data_lelu_cleaned.txt.lrz\n",
        "  # Décompression\n",
        "  lrunzip data_lelu_cleaned.txt.lrz\n",
        "fi"
      ],
      "execution_count": 0,
      "outputs": []
    },
    {
      "cell_type": "code",
      "metadata": {
        "id": "hIJfH5hLLsAU",
        "colab_type": "code",
        "colab": {}
      },
      "source": [
        "# Assemblage des deux datasets\n",
        "%%bash\n",
        "if [ -f \"/content/drive/My Drive/data_lelu_cleaned.txt\" ]; then\n",
        "  cat \"/content/drive/My Drive/data_lelu_cleaned.txt\" \"/content/drive/My Drive/data_facebook_cleaned.txt\" > data.txt\n",
        "fi\n",
        "if [ -f \"/content/data_lelu_cleaned.txt\" ]; then\n",
        "  cat \"/content/data_lelu_cleaned.txt\" \"/content/drive/My Drive/data_facebook_cleaned.txt\" > data.txt\n",
        "fi"
      ],
      "execution_count": 0,
      "outputs": []
    },
    {
      "cell_type": "code",
      "metadata": {
        "id": "OefZ927kL5m7",
        "colab_type": "code",
        "colab": {}
      },
      "source": [
        "from gensim.models.callbacks import CallbackAny2Vec\n",
        "import time\n",
        "class EpochLogger(CallbackAny2Vec):\n",
        "  '''Callback to log information about training'''\n",
        "  def __init__(self):\n",
        "    self.epoch = 0\n",
        "    self.t0 = time.time_ns()\n",
        "    self.curbatch = 0\n",
        "    \n",
        "  def on_batch_begin(self, model):\n",
        "    total = model.corpus_total_words\n",
        "    batch_size = model.batch_words\n",
        "    number_of_batch = total/batch_size\n",
        "    self.curbatch += 1\n",
        "    dt = (time.time_ns() - self.t0) / 1e9\n",
        "    dt /= self.curbatch\n",
        "    eta = max(0, round((number_of_batch - self.curbatch) * dt, 2))\n",
        "    n = 25\n",
        "    ratio = (self.curbatch / number_of_batch)*n\n",
        "    dots = \".\"*(n-int(ratio))\n",
        "    done = \"#\"*(int(ratio))\n",
        "    print(f\"\\r[{done}{dots}] ({eta} s - {self.curbatch}/{int(number_of_batch)})\" + \" \"*6, end='', flush=True)\n",
        "    \n",
        "  def on_epoch_begin(self, model):\n",
        "    self.epochs = model.epochs\n",
        "    self.t0 = time.time_ns()\n",
        "    self.curbatch = 0\n",
        "    print(\"Epoch {}/{}\".format(self.epoch+1, self.epochs))\n",
        "    #print(model.__dict__)\n",
        "\n",
        "  def on_epoch_end(self, model):\n",
        "    dt = (time.time_ns() - self.t0) / 1e9\n",
        "    eta = (self.epochs - self.epoch - 1) * dt\n",
        "    eta_min = int(eta // 60)\n",
        "    eta_s = round(eta % 60, 2)\n",
        "    print(\"\")\n",
        "    print(f\"Duration: {dt} s, ETA: {eta_min} minutes {eta_s} seconds\")\n",
        "    self.epoch += 1"
      ],
      "execution_count": 0,
      "outputs": []
    },
    {
      "cell_type": "code",
      "metadata": {
        "id": "FmbAi9bKMQRj",
        "colab_type": "code",
        "colab": {}
      },
      "source": [
        "from gensim.models import FastText\n",
        "\n",
        "class MyIter(object):\n",
        "  def __iter__(self):\n",
        "    with open(\"data.txt\", 'r') as f:\n",
        "      count = 0\n",
        "      for line in f.readlines() + [\"<unk> \"*100 + \"\\n\"]:\n",
        "        if (count % 2) == 0:\n",
        "          sentence = line[11:-1].split()\n",
        "        else:\n",
        "          sentence = [\"<start>\"] + line[9:-1].split() + [\"<end>\"]\n",
        "        yield sentence\n",
        "        count += 1"
      ],
      "execution_count": 0,
      "outputs": []
    },
    {
      "cell_type": "code",
      "metadata": {
        "id": "JXgdbSlcMT1l",
        "colab_type": "code",
        "colab": {}
      },
      "source": [
        "# Construction du modèle\n",
        "model = FastText(size=100, window=5, min_count=20, workers=2)\n",
        "model.build_vocab(sentences=MyIter())\n",
        "total_examples = model.corpus_count"
      ],
      "execution_count": 0,
      "outputs": []
    },
    {
      "cell_type": "code",
      "metadata": {
        "id": "Um0-_NXmMWvz",
        "colab_type": "code",
        "colab": {}
      },
      "source": [
        "# Entraînement\n",
        "model.train(sentences=MyIter(), total_examples=total_examples, epochs=5, callbacks=[EpochLogger())"
      ],
      "execution_count": 0,
      "outputs": []
    },
    {
      "cell_type": "code",
      "metadata": {
        "id": "q9JW_jtHMbqj",
        "colab_type": "code",
        "colab": {}
      },
      "source": [
        "# Sauvegarde\n",
        "model.wv.save_word2vec_format(\"/content/drive/My Drive/word2vec_vectors.txt\")\n",
        "model.save(\"/content/drive/My Drive/word2vec_model.bin\")"
      ],
      "execution_count": 0,
      "outputs": []
    },
    {
      "cell_type": "markdown",
      "metadata": {
        "id": "u8eCjz9-cZQ2",
        "colab_type": "text"
      },
      "source": [
        "**Conservez précieusement les nouveaux fichiers apparus sur votre Drive**"
      ]
    }
  ]
}