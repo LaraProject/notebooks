{
  "nbformat": 4,
  "nbformat_minor": 0,
  "metadata": {
    "colab": {
      "name": "LaraProject_Word2Vec.ipynb",
      "provenance": [],
      "collapsed_sections": []
    },
    "kernelspec": {
      "name": "python3",
      "display_name": "Python 3"
    }
  },
  "cells": [
    {
      "cell_type": "markdown",
      "metadata": {
        "id": "uSWmXJpwL2v0",
        "colab_type": "text"
      },
      "source": [
        "**Entraînement du Word2Vec avec Google Colaboratory**\n",
        "Avant tout, assurez vous d'avoir plusieurs chose :\n",
        "\n",
        "\n",
        "*   Google Colaboratory doit être synchonisé avec Google Drive\n",
        "*   Le fichier data_lelu_cleaned.txt doit être à la racine de votre Google Drive\n",
        "*   Le fichier word2vec_vectors.txt doit être à la racine de votre Google Drive"
      ]
    },
    {
      "cell_type": "code",
      "metadata": {
        "id": "hIJfH5hLLsAU",
        "colab_type": "code",
        "colab": {}
      },
      "source": [
        "# Assemblage des deux datasets\n",
        "!cat \"/content/drive/My Drive/data_lelu_cleaned.txt\" \"/content/drive/My Drive/data_facebook_cleaned.txt\" > data.txt"
      ],
      "execution_count": 0,
      "outputs": []
    },
    {
      "cell_type": "code",
      "metadata": {
        "id": "FmbAi9bKMQRj",
        "colab_type": "code",
        "colab": {}
      },
      "source": [
        "from gensim.models import FastText\n",
        "\n",
        "class MyIter(object):\n",
        "  def __iter__(self):\n",
        "    with open(\"data.txt\", 'r') as f:\n",
        "      count = 0\n",
        "      for line in f.readlines() + [\"<unk> \"*100 + \"\\n\"]:\n",
        "        if (count % 2) == 0:\n",
        "          sentence = line[11:-1].split()\n",
        "        else:\n",
        "          sentence = [\"<start>\"] + line[9:-1].split() + [\"<end>\"]\n",
        "        yield sentence\n",
        "        count += 1"
      ],
      "execution_count": 0,
      "outputs": []
    },
    {
      "cell_type": "code",
      "metadata": {
        "id": "JXgdbSlcMT1l",
        "colab_type": "code",
        "colab": {}
      },
      "source": [
        "# Construction du modèle\n",
        "model = FastText(size=100, window=5, min_count=20, workers=2)\n",
        "model.build_vocab(sentences=MyIter())\n",
        "total_examples = model.corpus_count"
      ],
      "execution_count": 0,
      "outputs": []
    },
    {
      "cell_type": "code",
      "metadata": {
        "id": "Um0-_NXmMWvz",
        "colab_type": "code",
        "colab": {}
      },
      "source": [
        "# Entraînement\n",
        "model.train(sentences=MyIter(), total_examples=total_examples, epochs=5)"
      ],
      "execution_count": 0,
      "outputs": []
    },
    {
      "cell_type": "code",
      "metadata": {
        "id": "q9JW_jtHMbqj",
        "colab_type": "code",
        "colab": {}
      },
      "source": [
        "# Sauvegarde\n",
        "model.wv.save_word2vec_format(\"/content/drive/My Drive/word2vec_vectors.txt\")"
      ],
      "execution_count": 0,
      "outputs": []
    }
  ]
}